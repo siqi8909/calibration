{
 "cells": [
  {
   "cell_type": "code",
   "execution_count": 26,
   "metadata": {
    "collapsed": true
   },
   "outputs": [],
   "source": [
    "# Fourier transform of option values\n",
    "# Merton's jump-diffusion model\n",
    "# v: variable; r: interest rate; T: maturity; mu: mean of jump distribution; delta: standard deviation of jump\n",
    "\n",
    "import numpy as np\n",
    "import cmath\n",
    "\n",
    "volatility = 0.2\n",
    "jumpintensity = 5\n",
    "mu = -0.1\n",
    "delta = 0.1\n",
    "T = 0.5\n",
    "r = 0\n",
    "#vol_BS = 0.3575\n",
    "\n",
    "drift = jumpintensity*(1-cmath.exp(mu+(delta**2)/2)) - 0.5*volatility**2\n",
    "\n",
    "#print (drift)\n",
    "\n",
    "def char_func_Merton(u):  #characteristic exponent of Merton\n",
    "    phi  = u*drift*1j - 0.5*(volatility**2)*(u**2) + jumpintensity*(cmath.exp(u*mu*1j-(delta**2)*(u**2)/2)-1)\n",
    "    phi_M = cmath.exp(T*phi)\n",
    "    return phi_M\n",
    "\n",
    "#print (charMerton(1-1j))\n",
    "\n",
    "def char_func_BS(u,vol_BS):  #characteristic function of BS\n",
    "    phi_BS = cmath.exp(-0.5*(vol_BS**2)*T*(u**2+u*1j))\n",
    "    return phi_BS\n",
    "#print (charBS(1-1j))\n",
    "\n",
    "def fourier(v,vol_BS):\n",
    "    fouriertrans = cmath.exp(v*r*T*1j)*(char_func_Merton(v-1j)-char_func_BS(v-1j,vol_BS))/(v*1j*(1+v*1j))\n",
    "    return fouriertrans\n",
    "#print (fourier(1))\n"
   ]
  },
  {
   "cell_type": "code",
   "execution_count": 27,
   "metadata": {},
   "outputs": [
    {
     "data": {
      "image/png": "[encoded data removed]",
      "text/plain": [
       "<Figure size 432x288 with 1 Axes>"
      ]
     },
     "metadata": {},
     "output_type": "display_data"
    }
   ],
   "source": [
    "# draw the fourier transform function\n",
    "%matplotlib inline\n",
    "import matplotlib.pyplot as plt\n",
    "x = np.linspace(-50, 50, 1000, endpoint=True)\n",
    "f2 = np.vectorize(fourier)\n",
    "\n",
    "plt.plot(x, np.abs(f2(x,0.2)))\n",
    "plt.plot(x, np.abs(f2(x,0.3575)))\n",
    "plt.show()"
   ]
  },
  {
   "cell_type": "code",
   "execution_count": 64,
   "metadata": {},
   "outputs": [
    {
     "name": "stdout",
     "output_type": "stream",
     "text": [
      "0.07247493762391767 0.07226797871588822\n"
     ]
    }
   ],
   "source": [
    "# use FFT algorithm to calculate the option price\n",
    "N = 4048 #number of samplepoints\n",
    "d = 0.01 #log strike step\n",
    "L = 2*np.pi*(N-1)/(d*N)\n",
    "k0 = 0 #initial log strike\n",
    "vol_BS = 0.1\n",
    "\n",
    "def log_strike(n):\n",
    "    k = k0+d*n\n",
    "    return k\n",
    "\n",
    "Delta = L/(N-1)\n",
    "w = 0  # discretize method weight\n",
    "\n",
    "f = []\n",
    "for m in range(0,N):\n",
    "    v = -L/2 + m*Delta\n",
    "    y1 = fourier(v,vol_BS)\n",
    "    y2 = cmath.exp(-m*k0*Delta*1j)\n",
    "    if m == 0 or m == N-1: w = 0.5\n",
    "    else: w = 1\n",
    "    f.append(w*y1*y2)\n",
    "#print(f)\n",
    "#print(np.fft.fft(f))\n",
    "#DFT_f = np.fft.fft(f)\n",
    "\n",
    "def DFT_f(n):\n",
    "    dft = 0\n",
    "    for m in range(0,N):\n",
    "        dft = dft + f[m]*cmath.exp(-2*np.pi*1j*n*m/N)\n",
    "    return dft\n",
    "#print (DFT_f(0))\n",
    "\n",
    "def z_T(n):\n",
    "    z1 = L*cmath.exp(log_strike(n)*L*1j/2)/(2*np.pi*(N-1))\n",
    "    z = z1*DFT_f(n)\n",
    "    return z\n",
    "print (np.abs(z_T(0)),np.abs(z_T(1)))\n",
    "\n",
    "#x = np.arange(k0, log_strike(N), d)\n",
    "n = np.arange(0,N,1)\n",
    "z2 = np.vectorize(z_T)\n",
    "#plt.plot(n, np.abs(z_T(n)))\n",
    "\n",
    "#print (z_T(n))\n",
    "#plt.plot(x, z_T(n))\n",
    "plt.show()\n",
    "\n"
   ]
  },
  {
   "cell_type": "code",
   "execution_count": 22,
   "metadata": {},
   "outputs": [
    {
     "name": "stderr",
     "output_type": "stream",
     "text": [
      "/usr/local/lib/python3.6/site-packages/ipykernel_launcher.py:16: DeprecationWarning: object of type <class 'float'> cannot be safely interpreted as an integer.\n",
      "  app.launch_new_instance()\n"
     ]
    },
    {
     "data": {
      "image/png": "[encoded data removed]",
      "text/plain": [
       "<Figure size 432x288 with 1 Axes>"
      ]
     },
     "metadata": {},
     "output_type": "display_data"
    }
   ],
   "source": [
    "# plot FFT\n",
    "from scipy.fftpack import fft, ifft\n",
    "\n",
    "# Number of samplepoints\n",
    "N = 64\n",
    "Tn = 1/64.0\n",
    "\n",
    "x = np.linspace(0, 2*np.pi*N*Tn, N)\n",
    "y1 = np.cos(20*x)\n",
    "y2 = np.sin(10*x)\n",
    "y3 = np.sin(5*x)\n",
    "\n",
    "y = y1+y2+y3\n",
    "\n",
    "fy = fft(y)\n",
    "xf = np.linspace(0.0, 1.0/(2.0*T), N/2)\n",
    "\n",
    "plt.plot(xf, (2.0/N)*np.abs(fy[:N//2]))\n",
    "plt.show()"
   ]
  },
  {
   "cell_type": "code",
   "execution_count": null,
   "metadata": {
    "collapsed": true
   },
   "outputs": [],
   "source": []
  },
  {
   "cell_type": "code",
   "execution_count": null,
   "metadata": {
    "collapsed": true
   },
   "outputs": [],
   "source": []
  }
 ],
 "metadata": {
  "kernelspec": {
   "display_name": "Python 3",
   "language": "python",
   "name": "python3"
  },
  "language_info": {
   "codemirror_mode": {
    "name": "ipython",
    "version": 3
   },
   "file_extension": ".py",
   "mimetype": "text/x-python",
   "name": "python",
   "nbconvert_exporter": "python",
   "pygments_lexer": "ipython3",
   "version": "3.6.0"
  }
 },
 "nbformat": 4,
 "nbformat_minor": 2
}
